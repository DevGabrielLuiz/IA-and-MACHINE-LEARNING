{
 "cells": [
  {
   "cell_type": "markdown",
   "metadata": {},
   "source": [
    "Adicionando as principais bibliotecas"
   ]
  },
  {
   "cell_type": "code",
   "execution_count": 1,
   "metadata": {},
   "outputs": [],
   "source": [
    "import matplotlib.pyplot as plt\n",
    "from matplotlib.pyplot import imshow\n",
    "import numpy as np\n",
    "import cv2"
   ]
  },
  {
   "cell_type": "markdown",
   "metadata": {},
   "source": [
    "Fazendo upload da imagem"
   ]
  },
  {
   "cell_type": "code",
   "execution_count": null,
   "metadata": {},
   "outputs": [],
   "source": [
    "img = cv2.imread('bach.jpg')\n",
    "\n",
    "img = cv2.cvtColor(img, cv2.COLOR_BGR2GRAY)\n",
    "suave = cv2.GaussianBlur(img, (3, 7), 0)\n",
    "(T, bin) = cv2.threshold(suave, 80,122.5,cv2.THRESH_BINARY)\n",
    "(T, binI) = cv2.threshold(suave, 80,122.5,cv2.THRESH_BINARY_INV)\n",
    "\n",
    "resultado = np.vstack([\n",
    "    \n",
    "    np.hstack([suave, bin]),\n",
    "    np.hstack([binI, cv2.bitwise_and(img, img, mask= binI)])\n",
    "    ])\n",
    "# resultado2 = cv2.resize(resultado, (100),(100) )\n",
    "cv2.imshow(\"Binarização da imagem\", resultado)\n",
    "cv2.waitKey(1)\n"
   ]
  }
 ],
 "metadata": {
  "kernelspec": {
   "display_name": "IA_MachineLearning",
   "language": "python",
   "name": "python3"
  },
  "language_info": {
   "codemirror_mode": {
    "name": "ipython",
    "version": 3
   },
   "file_extension": ".py",
   "mimetype": "text/x-python",
   "name": "python",
   "nbconvert_exporter": "python",
   "pygments_lexer": "ipython3",
   "version": "3.9.21"
  }
 },
 "nbformat": 4,
 "nbformat_minor": 2
}
